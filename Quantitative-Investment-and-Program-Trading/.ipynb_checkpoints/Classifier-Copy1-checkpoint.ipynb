{
 "cells": [
  {
   "cell_type": "code",
   "execution_count": 1,
   "id": "e1dd9913-2945-4a52-a09c-8d6b78234f0a",
   "metadata": {},
   "outputs": [],
   "source": [
    "class logReturn:\n",
    "    def __init__(self):\n",
    "        pass\n",
    "    \n",
    "    def fit(self, df, windows:int=0):\n",
    "        self.df = copy.deepcopy(df)\n",
    "        self.rdf = copy.deepcopy(df)\n",
    "        self.windows = windows\n",
    "        self.transformR()\n",
    "        self.rollingWindow()\n",
    "\n",
    "    def transformR(self):\n",
    "        self.lr = np.log(self.df/self.df.shift(1))\n",
    "        return self\n",
    "    \n",
    "    def backwardR(self, logR, pred:bool=False):\n",
    "        if pred:\n",
    "            ndf = copy.deepcopy(self.df)\n",
    "            return np.exp(logR) * ndf[self.windows:].shift(1)\n",
    "        else:\n",
    "            return np.exp(logR) * self.df.shift(1)\n",
    "    \n",
    "    def rollingWindow(self):\n",
    "        rolling = len(self.lr) - self.windows\n",
    "        self.rollingX = np.array([self.lr[i: i+self.windows] for i in range(rolling)])\n",
    "        self.rollingY = np.array([self.lr[i+self.windows] for i in range(rolling)])\n",
    "        return self"
   ]
  },
  {
   "cell_type": "code",
   "execution_count": 41,
   "id": "c5c4a5f4-34a6-4f41-b7c3-7807fcc7d7c7",
   "metadata": {},
   "outputs": [],
   "source": [
    "import seaborn as sns\n",
    "import matplotlib.pyplot as plt\n",
    "import matplotlib.colors as colors\n",
    "\n",
    "def plotter(matrix, fname, acc, f1):\n",
    "    plt.style.use('fivethirtyeight')\n",
    "    plt.rcParams[\"font.family\"] = [\"monospace\"]\n",
    "\n",
    "    plt.figure(figsize=(10, 10))\n",
    "\n",
    "    sns.heatmap(matrix,\n",
    "                cmap = 'Reds',\n",
    "                square = True, \n",
    "                annot=True, fmt='.0f',\n",
    "                norm=colors.LogNorm(),\n",
    "                annot_kws={\"fontsize\":20, \"fontweight\":\"bold\"},\n",
    "                cbar=False)\n",
    "    plt.ylabel('True', fontweight=\"bold\")\n",
    "    plt.xlabel('Pred', fontweight=\"bold\")\n",
    "    plt.title(f\"{fname}\\n\", fontsize=30, fontweight=\"bold\")\n",
    "    plt.text(1,-0.05,f'Accuracy: {round(acc, 4)} F1-Score:{round(f1, 4)}', ha='center', fontsize=20, fontweight=\"bold\")\n",
    "    plt.savefig(f'./Images/C_{fname}.png', bbox_inches='tight')"
   ]
  },
  {
   "cell_type": "code",
   "execution_count": 3,
   "id": "46cedb0e-15de-46f1-b009-694545855519",
   "metadata": {},
   "outputs": [],
   "source": [
    "import pandas as pd\n",
    "import numpy as np\n",
    "import talib\n",
    "import copy\n",
    "from sklearn.metrics import accuracy_score, f1_score, confusion_matrix\n",
    "\n",
    "df = pd.read_csv('./Data/CleanBTCUSDT_1M.csv')"
   ]
  },
  {
   "cell_type": "code",
   "execution_count": 4,
   "id": "526a41c4-10b3-4778-bffc-d4c4406b7165",
   "metadata": {},
   "outputs": [
    {
     "data": {
      "text/html": [
       "<div>\n",
       "<style scoped>\n",
       "    .dataframe tbody tr th:only-of-type {\n",
       "        vertical-align: middle;\n",
       "    }\n",
       "\n",
       "    .dataframe tbody tr th {\n",
       "        vertical-align: top;\n",
       "    }\n",
       "\n",
       "    .dataframe thead th {\n",
       "        text-align: right;\n",
       "    }\n",
       "</style>\n",
       "<table border=\"1\" class=\"dataframe\">\n",
       "  <thead>\n",
       "    <tr style=\"text-align: right;\">\n",
       "      <th></th>\n",
       "      <th>timestamp</th>\n",
       "      <th>open</th>\n",
       "      <th>high</th>\n",
       "      <th>low</th>\n",
       "      <th>close</th>\n",
       "      <th>volume</th>\n",
       "    </tr>\n",
       "  </thead>\n",
       "  <tbody>\n",
       "    <tr>\n",
       "      <th>0</th>\n",
       "      <td>2017-08-17 04:00:00</td>\n",
       "      <td>4261.48</td>\n",
       "      <td>4261.48</td>\n",
       "      <td>4261.48</td>\n",
       "      <td>4261.48</td>\n",
       "      <td>1.775183</td>\n",
       "    </tr>\n",
       "    <tr>\n",
       "      <th>1</th>\n",
       "      <td>2017-08-17 04:01:00</td>\n",
       "      <td>4261.48</td>\n",
       "      <td>4261.48</td>\n",
       "      <td>4261.48</td>\n",
       "      <td>4261.48</td>\n",
       "      <td>0.000000</td>\n",
       "    </tr>\n",
       "    <tr>\n",
       "      <th>2</th>\n",
       "      <td>2017-08-17 04:02:00</td>\n",
       "      <td>4280.56</td>\n",
       "      <td>4280.56</td>\n",
       "      <td>4280.56</td>\n",
       "      <td>4280.56</td>\n",
       "      <td>0.261074</td>\n",
       "    </tr>\n",
       "    <tr>\n",
       "      <th>3</th>\n",
       "      <td>2017-08-17 04:03:00</td>\n",
       "      <td>4261.48</td>\n",
       "      <td>4261.48</td>\n",
       "      <td>4261.48</td>\n",
       "      <td>4261.48</td>\n",
       "      <td>0.012008</td>\n",
       "    </tr>\n",
       "    <tr>\n",
       "      <th>4</th>\n",
       "      <td>2017-08-17 04:04:00</td>\n",
       "      <td>4261.48</td>\n",
       "      <td>4261.48</td>\n",
       "      <td>4261.48</td>\n",
       "      <td>4261.48</td>\n",
       "      <td>0.140796</td>\n",
       "    </tr>\n",
       "    <tr>\n",
       "      <th>...</th>\n",
       "      <td>...</td>\n",
       "      <td>...</td>\n",
       "      <td>...</td>\n",
       "      <td>...</td>\n",
       "      <td>...</td>\n",
       "      <td>...</td>\n",
       "    </tr>\n",
       "    <tr>\n",
       "      <th>2279877</th>\n",
       "      <td>2021-12-23 07:18:00</td>\n",
       "      <td>48399.24</td>\n",
       "      <td>48407.98</td>\n",
       "      <td>48384.86</td>\n",
       "      <td>48390.19</td>\n",
       "      <td>16.975530</td>\n",
       "    </tr>\n",
       "    <tr>\n",
       "      <th>2279878</th>\n",
       "      <td>2021-12-23 07:19:00</td>\n",
       "      <td>48390.20</td>\n",
       "      <td>48417.98</td>\n",
       "      <td>48390.19</td>\n",
       "      <td>48417.98</td>\n",
       "      <td>9.188340</td>\n",
       "    </tr>\n",
       "    <tr>\n",
       "      <th>2279879</th>\n",
       "      <td>2021-12-23 07:20:00</td>\n",
       "      <td>48417.97</td>\n",
       "      <td>48439.82</td>\n",
       "      <td>48406.19</td>\n",
       "      <td>48430.60</td>\n",
       "      <td>7.366720</td>\n",
       "    </tr>\n",
       "    <tr>\n",
       "      <th>2279880</th>\n",
       "      <td>2021-12-23 07:21:00</td>\n",
       "      <td>48430.61</td>\n",
       "      <td>48442.00</td>\n",
       "      <td>48419.95</td>\n",
       "      <td>48425.96</td>\n",
       "      <td>6.630590</td>\n",
       "    </tr>\n",
       "    <tr>\n",
       "      <th>2279881</th>\n",
       "      <td>2021-12-23 07:22:00</td>\n",
       "      <td>48425.97</td>\n",
       "      <td>48450.00</td>\n",
       "      <td>48421.11</td>\n",
       "      <td>48437.57</td>\n",
       "      <td>6.360080</td>\n",
       "    </tr>\n",
       "  </tbody>\n",
       "</table>\n",
       "<p>2279882 rows × 6 columns</p>\n",
       "</div>"
      ],
      "text/plain": [
       "                   timestamp      open      high       low     close  \\\n",
       "0        2017-08-17 04:00:00   4261.48   4261.48   4261.48   4261.48   \n",
       "1        2017-08-17 04:01:00   4261.48   4261.48   4261.48   4261.48   \n",
       "2        2017-08-17 04:02:00   4280.56   4280.56   4280.56   4280.56   \n",
       "3        2017-08-17 04:03:00   4261.48   4261.48   4261.48   4261.48   \n",
       "4        2017-08-17 04:04:00   4261.48   4261.48   4261.48   4261.48   \n",
       "...                      ...       ...       ...       ...       ...   \n",
       "2279877  2021-12-23 07:18:00  48399.24  48407.98  48384.86  48390.19   \n",
       "2279878  2021-12-23 07:19:00  48390.20  48417.98  48390.19  48417.98   \n",
       "2279879  2021-12-23 07:20:00  48417.97  48439.82  48406.19  48430.60   \n",
       "2279880  2021-12-23 07:21:00  48430.61  48442.00  48419.95  48425.96   \n",
       "2279881  2021-12-23 07:22:00  48425.97  48450.00  48421.11  48437.57   \n",
       "\n",
       "            volume  \n",
       "0         1.775183  \n",
       "1         0.000000  \n",
       "2         0.261074  \n",
       "3         0.012008  \n",
       "4         0.140796  \n",
       "...            ...  \n",
       "2279877  16.975530  \n",
       "2279878   9.188340  \n",
       "2279879   7.366720  \n",
       "2279880   6.630590  \n",
       "2279881   6.360080  \n",
       "\n",
       "[2279882 rows x 6 columns]"
      ]
     },
     "execution_count": 4,
     "metadata": {},
     "output_type": "execute_result"
    }
   ],
   "source": [
    "df"
   ]
  },
  {
   "cell_type": "code",
   "execution_count": 5,
   "id": "aecb8839-cd81-4b33-8e58-bcd30cd49e2e",
   "metadata": {},
   "outputs": [
    {
     "data": {
      "text/html": [
       "<div>\n",
       "<style scoped>\n",
       "    .dataframe tbody tr th:only-of-type {\n",
       "        vertical-align: middle;\n",
       "    }\n",
       "\n",
       "    .dataframe tbody tr th {\n",
       "        vertical-align: top;\n",
       "    }\n",
       "\n",
       "    .dataframe thead th {\n",
       "        text-align: right;\n",
       "    }\n",
       "</style>\n",
       "<table border=\"1\" class=\"dataframe\">\n",
       "  <thead>\n",
       "    <tr style=\"text-align: right;\">\n",
       "      <th></th>\n",
       "      <th>timestamp</th>\n",
       "      <th>open</th>\n",
       "      <th>high</th>\n",
       "      <th>low</th>\n",
       "      <th>close</th>\n",
       "      <th>volume</th>\n",
       "    </tr>\n",
       "  </thead>\n",
       "  <tbody>\n",
       "    <tr>\n",
       "      <th>0</th>\n",
       "      <td>2021-12-07 15:10:00</td>\n",
       "      <td>51552.69</td>\n",
       "      <td>51588.39</td>\n",
       "      <td>51480.01</td>\n",
       "      <td>51484.89</td>\n",
       "      <td>20.00728</td>\n",
       "    </tr>\n",
       "    <tr>\n",
       "      <th>1</th>\n",
       "      <td>2021-12-07 15:11:00</td>\n",
       "      <td>51484.88</td>\n",
       "      <td>51581.04</td>\n",
       "      <td>51480.27</td>\n",
       "      <td>51558.35</td>\n",
       "      <td>27.38305</td>\n",
       "    </tr>\n",
       "    <tr>\n",
       "      <th>2</th>\n",
       "      <td>2021-12-07 15:12:00</td>\n",
       "      <td>51558.36</td>\n",
       "      <td>51580.37</td>\n",
       "      <td>51528.26</td>\n",
       "      <td>51541.52</td>\n",
       "      <td>22.40820</td>\n",
       "    </tr>\n",
       "    <tr>\n",
       "      <th>3</th>\n",
       "      <td>2021-12-07 15:13:00</td>\n",
       "      <td>51541.52</td>\n",
       "      <td>51620.83</td>\n",
       "      <td>51538.79</td>\n",
       "      <td>51601.93</td>\n",
       "      <td>20.65334</td>\n",
       "    </tr>\n",
       "    <tr>\n",
       "      <th>4</th>\n",
       "      <td>2021-12-07 15:14:00</td>\n",
       "      <td>51601.94</td>\n",
       "      <td>51610.99</td>\n",
       "      <td>51559.04</td>\n",
       "      <td>51568.85</td>\n",
       "      <td>18.50557</td>\n",
       "    </tr>\n",
       "    <tr>\n",
       "      <th>...</th>\n",
       "      <td>...</td>\n",
       "      <td>...</td>\n",
       "      <td>...</td>\n",
       "      <td>...</td>\n",
       "      <td>...</td>\n",
       "      <td>...</td>\n",
       "    </tr>\n",
       "    <tr>\n",
       "      <th>22568</th>\n",
       "      <td>2021-12-23 07:18:00</td>\n",
       "      <td>48399.24</td>\n",
       "      <td>48407.98</td>\n",
       "      <td>48384.86</td>\n",
       "      <td>48390.19</td>\n",
       "      <td>16.97553</td>\n",
       "    </tr>\n",
       "    <tr>\n",
       "      <th>22569</th>\n",
       "      <td>2021-12-23 07:19:00</td>\n",
       "      <td>48390.20</td>\n",
       "      <td>48417.98</td>\n",
       "      <td>48390.19</td>\n",
       "      <td>48417.98</td>\n",
       "      <td>9.18834</td>\n",
       "    </tr>\n",
       "    <tr>\n",
       "      <th>22570</th>\n",
       "      <td>2021-12-23 07:20:00</td>\n",
       "      <td>48417.97</td>\n",
       "      <td>48439.82</td>\n",
       "      <td>48406.19</td>\n",
       "      <td>48430.60</td>\n",
       "      <td>7.36672</td>\n",
       "    </tr>\n",
       "    <tr>\n",
       "      <th>22571</th>\n",
       "      <td>2021-12-23 07:21:00</td>\n",
       "      <td>48430.61</td>\n",
       "      <td>48442.00</td>\n",
       "      <td>48419.95</td>\n",
       "      <td>48425.96</td>\n",
       "      <td>6.63059</td>\n",
       "    </tr>\n",
       "    <tr>\n",
       "      <th>22572</th>\n",
       "      <td>2021-12-23 07:22:00</td>\n",
       "      <td>48425.97</td>\n",
       "      <td>48450.00</td>\n",
       "      <td>48421.11</td>\n",
       "      <td>48437.57</td>\n",
       "      <td>6.36008</td>\n",
       "    </tr>\n",
       "  </tbody>\n",
       "</table>\n",
       "<p>22573 rows × 6 columns</p>\n",
       "</div>"
      ],
      "text/plain": [
       "                 timestamp      open      high       low     close    volume\n",
       "0      2021-12-07 15:10:00  51552.69  51588.39  51480.01  51484.89  20.00728\n",
       "1      2021-12-07 15:11:00  51484.88  51581.04  51480.27  51558.35  27.38305\n",
       "2      2021-12-07 15:12:00  51558.36  51580.37  51528.26  51541.52  22.40820\n",
       "3      2021-12-07 15:13:00  51541.52  51620.83  51538.79  51601.93  20.65334\n",
       "4      2021-12-07 15:14:00  51601.94  51610.99  51559.04  51568.85  18.50557\n",
       "...                    ...       ...       ...       ...       ...       ...\n",
       "22568  2021-12-23 07:18:00  48399.24  48407.98  48384.86  48390.19  16.97553\n",
       "22569  2021-12-23 07:19:00  48390.20  48417.98  48390.19  48417.98   9.18834\n",
       "22570  2021-12-23 07:20:00  48417.97  48439.82  48406.19  48430.60   7.36672\n",
       "22571  2021-12-23 07:21:00  48430.61  48442.00  48419.95  48425.96   6.63059\n",
       "22572  2021-12-23 07:22:00  48425.97  48450.00  48421.11  48437.57   6.36008\n",
       "\n",
       "[22573 rows x 6 columns]"
      ]
     },
     "execution_count": 5,
     "metadata": {},
     "output_type": "execute_result"
    }
   ],
   "source": [
    "df = df[round(df.shape[0]/1.01):]\n",
    "df.reset_index(drop=True, inplace=True)\n",
    "df"
   ]
  },
  {
   "cell_type": "code",
   "execution_count": 6,
   "id": "3bbf0d54-2633-4b39-8851-4a8777b2fd69",
   "metadata": {},
   "outputs": [
    {
     "name": "stderr",
     "output_type": "stream",
     "text": [
      "C:\\Users\\User\\AppData\\Local\\Temp/ipykernel_13196/1655988929.py:7: SettingWithCopyWarning: \n",
      "A value is trying to be set on a copy of a slice from a DataFrame.\n",
      "Try using .loc[row_indexer,col_indexer] = value instead\n",
      "\n",
      "See the caveats in the documentation: https://pandas.pydata.org/pandas-docs/stable/user_guide/indexing.html#returning-a-view-versus-a-copy\n",
      "  df[\"low-lag1\"] = Low.copy()\n",
      "C:\\Users\\User\\AppData\\Local\\Temp/ipykernel_13196/1655988929.py:8: SettingWithCopyWarning: \n",
      "A value is trying to be set on a copy of a slice from a DataFrame.\n",
      "Try using .loc[row_indexer,col_indexer] = value instead\n",
      "\n",
      "See the caveats in the documentation: https://pandas.pydata.org/pandas-docs/stable/user_guide/indexing.html#returning-a-view-versus-a-copy\n",
      "  df[\"high-lag1\"] = High.copy()\n",
      "C:\\Users\\User\\AppData\\Local\\Temp/ipykernel_13196/1655988929.py:9: SettingWithCopyWarning: \n",
      "A value is trying to be set on a copy of a slice from a DataFrame.\n",
      "Try using .loc[row_indexer,col_indexer] = value instead\n",
      "\n",
      "See the caveats in the documentation: https://pandas.pydata.org/pandas-docs/stable/user_guide/indexing.html#returning-a-view-versus-a-copy\n",
      "  df[\"open-lag1\"] = Open.copy()\n",
      "C:\\Users\\User\\AppData\\Local\\Temp/ipykernel_13196/1655988929.py:10: SettingWithCopyWarning: \n",
      "A value is trying to be set on a copy of a slice from a DataFrame.\n",
      "Try using .loc[row_indexer,col_indexer] = value instead\n",
      "\n",
      "See the caveats in the documentation: https://pandas.pydata.org/pandas-docs/stable/user_guide/indexing.html#returning-a-view-versus-a-copy\n",
      "  df[\"close-lag1\"] = Close.copy()\n",
      "C:\\Users\\User\\AppData\\Local\\Temp/ipykernel_13196/1655988929.py:11: SettingWithCopyWarning: \n",
      "A value is trying to be set on a copy of a slice from a DataFrame.\n",
      "Try using .loc[row_indexer,col_indexer] = value instead\n",
      "\n",
      "See the caveats in the documentation: https://pandas.pydata.org/pandas-docs/stable/user_guide/indexing.html#returning-a-view-versus-a-copy\n",
      "  df[\"volume-lag1\"] = Volume.copy()\n"
     ]
    }
   ],
   "source": [
    "High = df[\"high\"].shift(1).copy()\n",
    "Low = df[\"low\"].shift(1).copy()\n",
    "Open = df[\"open\"].shift(1).copy()\n",
    "Close = df[\"close\"].shift(1).copy()\n",
    "Volume = df[\"volume\"].shift(1).copy()\n",
    "\n",
    "df[\"low-lag1\"] = Low.copy()\n",
    "df[\"high-lag1\"] = High.copy()\n",
    "df[\"open-lag1\"] = Open.copy()\n",
    "df[\"close-lag1\"] = Close.copy()\n",
    "df[\"volume-lag1\"] = Volume.copy()"
   ]
  },
  {
   "cell_type": "code",
   "execution_count": 7,
   "id": "c38bff9f-b012-46b8-aa59-ba4d204b364f",
   "metadata": {},
   "outputs": [
    {
     "name": "stderr",
     "output_type": "stream",
     "text": [
      "C:\\Anaconda3\\envs\\torchvenv\\lib\\site-packages\\pandas\\core\\indexing.py:1667: SettingWithCopyWarning: \n",
      "A value is trying to be set on a copy of a slice from a DataFrame.\n",
      "Try using .loc[row_indexer,col_indexer] = value instead\n",
      "\n",
      "See the caveats in the documentation: https://pandas.pydata.org/pandas-docs/stable/user_guide/indexing.html#returning-a-view-versus-a-copy\n",
      "  self.obj[key] = value\n"
     ]
    }
   ],
   "source": [
    "df.loc[:, ('MA10')]  = talib.MA(Close, timeperiod=10).copy()\n",
    "df.loc[:, ('WMA10')] = talib.WMA(Close, timeperiod=10).copy()\n",
    "df.loc[:, ('EMA10')] = talib.EMA(Close, timeperiod=10).copy()\n",
    "df.loc[:, ('MOM')] = talib.MOM(Close, timeperiod=10).copy()\n",
    "fastk, fastd = talib.STOCHF( High ,Low, Close, fastk_period=5, fastd_period=3, fastd_matype=0)\n",
    "df.loc[:, ('K')] = fastk.copy()\n",
    "df.loc[:, ('D')] = fastd.copy()\n",
    "df.loc[:, ('RSI-5')]  = talib.RSI(Close,timeperiod=5).copy()\n",
    "df.loc[:, ('RSI-10')] = talib.RSI(Close,timeperiod=10).copy()\n",
    "df.loc[:, ('威廉指標R')] = talib.WILLR(High, Low, Close, timeperiod=10).copy() # 14 --> 10\n",
    "df.loc[:, ('AD')] = talib.AD(High, Low, Close, Volume).values.copy()\n",
    "df.loc[:, ('CCI指標')] = talib.CCI(High, Low, Close, timeperiod=10).copy()"
   ]
  },
  {
   "cell_type": "code",
   "execution_count": 8,
   "id": "3dd073bc-62d4-4be1-9fca-096fc9eb1f9e",
   "metadata": {},
   "outputs": [],
   "source": [
    "LR = logReturn()\n",
    "LR.fit(df.close)\n",
    "df.loc[:, ('r')] = LR.lr.copy()"
   ]
  },
  {
   "cell_type": "code",
   "execution_count": 9,
   "id": "400674cd-b3da-4fa6-92f2-eb5ce1d36734",
   "metadata": {},
   "outputs": [],
   "source": [
    "tp = np.where((df['r'] >= 0) , 1, 0)\n",
    "df.loc[:, ('flag')] = tp.copy()"
   ]
  },
  {
   "cell_type": "code",
   "execution_count": 10,
   "id": "dfdd9432-3791-43ff-8ffc-972fc774c807",
   "metadata": {},
   "outputs": [],
   "source": [
    "windows = 10\n",
    "x, _ = LR.rollingX, LR.rollingY\n",
    "y = df['flag'][:].values"
   ]
  },
  {
   "cell_type": "code",
   "execution_count": 11,
   "id": "6d3a9cbc-2a35-44c8-9e76-59615ec60016",
   "metadata": {},
   "outputs": [
    {
     "data": {
      "text/html": [
       "<div>\n",
       "<style scoped>\n",
       "    .dataframe tbody tr th:only-of-type {\n",
       "        vertical-align: middle;\n",
       "    }\n",
       "\n",
       "    .dataframe tbody tr th {\n",
       "        vertical-align: top;\n",
       "    }\n",
       "\n",
       "    .dataframe thead th {\n",
       "        text-align: right;\n",
       "    }\n",
       "</style>\n",
       "<table border=\"1\" class=\"dataframe\">\n",
       "  <thead>\n",
       "    <tr style=\"text-align: right;\">\n",
       "      <th></th>\n",
       "      <th>low-lag1</th>\n",
       "      <th>high-lag1</th>\n",
       "      <th>open-lag1</th>\n",
       "      <th>close-lag1</th>\n",
       "      <th>volume-lag1</th>\n",
       "      <th>MA10</th>\n",
       "      <th>WMA10</th>\n",
       "      <th>EMA10</th>\n",
       "      <th>MOM</th>\n",
       "      <th>K</th>\n",
       "      <th>D</th>\n",
       "      <th>RSI-5</th>\n",
       "      <th>RSI-10</th>\n",
       "      <th>威廉指標R</th>\n",
       "      <th>AD</th>\n",
       "      <th>CCI指標</th>\n",
       "    </tr>\n",
       "  </thead>\n",
       "  <tbody>\n",
       "    <tr>\n",
       "      <th>0</th>\n",
       "      <td>NaN</td>\n",
       "      <td>NaN</td>\n",
       "      <td>NaN</td>\n",
       "      <td>NaN</td>\n",
       "      <td>NaN</td>\n",
       "      <td>NaN</td>\n",
       "      <td>NaN</td>\n",
       "      <td>NaN</td>\n",
       "      <td>NaN</td>\n",
       "      <td>NaN</td>\n",
       "      <td>NaN</td>\n",
       "      <td>NaN</td>\n",
       "      <td>NaN</td>\n",
       "      <td>NaN</td>\n",
       "      <td>NaN</td>\n",
       "      <td>NaN</td>\n",
       "    </tr>\n",
       "    <tr>\n",
       "      <th>1</th>\n",
       "      <td>51480.01</td>\n",
       "      <td>51588.39</td>\n",
       "      <td>51552.69</td>\n",
       "      <td>51484.89</td>\n",
       "      <td>20.00728</td>\n",
       "      <td>NaN</td>\n",
       "      <td>NaN</td>\n",
       "      <td>NaN</td>\n",
       "      <td>NaN</td>\n",
       "      <td>NaN</td>\n",
       "      <td>NaN</td>\n",
       "      <td>NaN</td>\n",
       "      <td>NaN</td>\n",
       "      <td>NaN</td>\n",
       "      <td>-18.205554</td>\n",
       "      <td>NaN</td>\n",
       "    </tr>\n",
       "    <tr>\n",
       "      <th>2</th>\n",
       "      <td>51480.27</td>\n",
       "      <td>51581.04</td>\n",
       "      <td>51484.88</td>\n",
       "      <td>51558.35</td>\n",
       "      <td>27.38305</td>\n",
       "      <td>NaN</td>\n",
       "      <td>NaN</td>\n",
       "      <td>NaN</td>\n",
       "      <td>NaN</td>\n",
       "      <td>NaN</td>\n",
       "      <td>NaN</td>\n",
       "      <td>NaN</td>\n",
       "      <td>NaN</td>\n",
       "      <td>NaN</td>\n",
       "      <td>-3.153980</td>\n",
       "      <td>NaN</td>\n",
       "    </tr>\n",
       "    <tr>\n",
       "      <th>3</th>\n",
       "      <td>51528.26</td>\n",
       "      <td>51580.37</td>\n",
       "      <td>51558.36</td>\n",
       "      <td>51541.52</td>\n",
       "      <td>22.40820</td>\n",
       "      <td>NaN</td>\n",
       "      <td>NaN</td>\n",
       "      <td>NaN</td>\n",
       "      <td>NaN</td>\n",
       "      <td>NaN</td>\n",
       "      <td>NaN</td>\n",
       "      <td>NaN</td>\n",
       "      <td>NaN</td>\n",
       "      <td>NaN</td>\n",
       "      <td>-14.158122</td>\n",
       "      <td>NaN</td>\n",
       "    </tr>\n",
       "    <tr>\n",
       "      <th>4</th>\n",
       "      <td>51538.79</td>\n",
       "      <td>51620.83</td>\n",
       "      <td>51541.52</td>\n",
       "      <td>51601.93</td>\n",
       "      <td>20.65334</td>\n",
       "      <td>NaN</td>\n",
       "      <td>NaN</td>\n",
       "      <td>NaN</td>\n",
       "      <td>NaN</td>\n",
       "      <td>NaN</td>\n",
       "      <td>NaN</td>\n",
       "      <td>NaN</td>\n",
       "      <td>NaN</td>\n",
       "      <td>NaN</td>\n",
       "      <td>-3.020826</td>\n",
       "      <td>NaN</td>\n",
       "    </tr>\n",
       "    <tr>\n",
       "      <th>...</th>\n",
       "      <td>...</td>\n",
       "      <td>...</td>\n",
       "      <td>...</td>\n",
       "      <td>...</td>\n",
       "      <td>...</td>\n",
       "      <td>...</td>\n",
       "      <td>...</td>\n",
       "      <td>...</td>\n",
       "      <td>...</td>\n",
       "      <td>...</td>\n",
       "      <td>...</td>\n",
       "      <td>...</td>\n",
       "      <td>...</td>\n",
       "      <td>...</td>\n",
       "      <td>...</td>\n",
       "      <td>...</td>\n",
       "    </tr>\n",
       "    <tr>\n",
       "      <th>22568</th>\n",
       "      <td>48399.23</td>\n",
       "      <td>48408.02</td>\n",
       "      <td>48402.24</td>\n",
       "      <td>48399.23</td>\n",
       "      <td>4.84094</td>\n",
       "      <td>48440.982</td>\n",
       "      <td>48426.396910</td>\n",
       "      <td>48429.330075</td>\n",
       "      <td>-91.30</td>\n",
       "      <td>23.005763</td>\n",
       "      <td>19.469406</td>\n",
       "      <td>18.906397</td>\n",
       "      <td>38.177511</td>\n",
       "      <td>-86.905481</td>\n",
       "      <td>-612.721817</td>\n",
       "      <td>-110.098288</td>\n",
       "    </tr>\n",
       "    <tr>\n",
       "      <th>22569</th>\n",
       "      <td>48384.86</td>\n",
       "      <td>48407.98</td>\n",
       "      <td>48399.24</td>\n",
       "      <td>48390.19</td>\n",
       "      <td>16.97553</td>\n",
       "      <td>48431.087</td>\n",
       "      <td>48417.162000</td>\n",
       "      <td>48422.213698</td>\n",
       "      <td>-98.95</td>\n",
       "      <td>9.296330</td>\n",
       "      <td>17.589296</td>\n",
       "      <td>15.785362</td>\n",
       "      <td>35.761051</td>\n",
       "      <td>-94.267278</td>\n",
       "      <td>-621.870395</td>\n",
       "      <td>-103.571435</td>\n",
       "    </tr>\n",
       "    <tr>\n",
       "      <th>22570</th>\n",
       "      <td>48390.19</td>\n",
       "      <td>48417.98</td>\n",
       "      <td>48390.20</td>\n",
       "      <td>48417.98</td>\n",
       "      <td>9.18834</td>\n",
       "      <td>48427.207</td>\n",
       "      <td>48414.778910</td>\n",
       "      <td>48421.443935</td>\n",
       "      <td>-38.80</td>\n",
       "      <td>64.955956</td>\n",
       "      <td>32.419349</td>\n",
       "      <td>48.471678</td>\n",
       "      <td>47.180471</td>\n",
       "      <td>-68.278313</td>\n",
       "      <td>-612.682055</td>\n",
       "      <td>-52.329111</td>\n",
       "    </tr>\n",
       "    <tr>\n",
       "      <th>22571</th>\n",
       "      <td>48406.19</td>\n",
       "      <td>48439.82</td>\n",
       "      <td>48417.97</td>\n",
       "      <td>48430.60</td>\n",
       "      <td>7.36672</td>\n",
       "      <td>48423.552</td>\n",
       "      <td>48415.395819</td>\n",
       "      <td>48423.108674</td>\n",
       "      <td>-36.55</td>\n",
       "      <td>83.464849</td>\n",
       "      <td>52.572378</td>\n",
       "      <td>57.774839</td>\n",
       "      <td>51.528205</td>\n",
       "      <td>-56.476199</td>\n",
       "      <td>-609.354654</td>\n",
       "      <td>4.679249</td>\n",
       "    </tr>\n",
       "    <tr>\n",
       "      <th>22572</th>\n",
       "      <td>48419.95</td>\n",
       "      <td>48442.00</td>\n",
       "      <td>48430.61</td>\n",
       "      <td>48425.96</td>\n",
       "      <td>6.63059</td>\n",
       "      <td>48419.101</td>\n",
       "      <td>48415.833637</td>\n",
       "      <td>48423.627097</td>\n",
       "      <td>-44.51</td>\n",
       "      <td>71.928596</td>\n",
       "      <td>73.449800</td>\n",
       "      <td>53.348211</td>\n",
       "      <td>49.851851</td>\n",
       "      <td>-52.857786</td>\n",
       "      <td>-612.370746</td>\n",
       "      <td>35.891953</td>\n",
       "    </tr>\n",
       "  </tbody>\n",
       "</table>\n",
       "<p>22573 rows × 16 columns</p>\n",
       "</div>"
      ],
      "text/plain": [
       "       low-lag1  high-lag1  open-lag1  close-lag1  volume-lag1       MA10  \\\n",
       "0           NaN        NaN        NaN         NaN          NaN        NaN   \n",
       "1      51480.01   51588.39   51552.69    51484.89     20.00728        NaN   \n",
       "2      51480.27   51581.04   51484.88    51558.35     27.38305        NaN   \n",
       "3      51528.26   51580.37   51558.36    51541.52     22.40820        NaN   \n",
       "4      51538.79   51620.83   51541.52    51601.93     20.65334        NaN   \n",
       "...         ...        ...        ...         ...          ...        ...   \n",
       "22568  48399.23   48408.02   48402.24    48399.23      4.84094  48440.982   \n",
       "22569  48384.86   48407.98   48399.24    48390.19     16.97553  48431.087   \n",
       "22570  48390.19   48417.98   48390.20    48417.98      9.18834  48427.207   \n",
       "22571  48406.19   48439.82   48417.97    48430.60      7.36672  48423.552   \n",
       "22572  48419.95   48442.00   48430.61    48425.96      6.63059  48419.101   \n",
       "\n",
       "              WMA10         EMA10    MOM          K          D      RSI-5  \\\n",
       "0               NaN           NaN    NaN        NaN        NaN        NaN   \n",
       "1               NaN           NaN    NaN        NaN        NaN        NaN   \n",
       "2               NaN           NaN    NaN        NaN        NaN        NaN   \n",
       "3               NaN           NaN    NaN        NaN        NaN        NaN   \n",
       "4               NaN           NaN    NaN        NaN        NaN        NaN   \n",
       "...             ...           ...    ...        ...        ...        ...   \n",
       "22568  48426.396910  48429.330075 -91.30  23.005763  19.469406  18.906397   \n",
       "22569  48417.162000  48422.213698 -98.95   9.296330  17.589296  15.785362   \n",
       "22570  48414.778910  48421.443935 -38.80  64.955956  32.419349  48.471678   \n",
       "22571  48415.395819  48423.108674 -36.55  83.464849  52.572378  57.774839   \n",
       "22572  48415.833637  48423.627097 -44.51  71.928596  73.449800  53.348211   \n",
       "\n",
       "          RSI-10      威廉指標R          AD       CCI指標  \n",
       "0            NaN        NaN         NaN         NaN  \n",
       "1            NaN        NaN  -18.205554         NaN  \n",
       "2            NaN        NaN   -3.153980         NaN  \n",
       "3            NaN        NaN  -14.158122         NaN  \n",
       "4            NaN        NaN   -3.020826         NaN  \n",
       "...          ...        ...         ...         ...  \n",
       "22568  38.177511 -86.905481 -612.721817 -110.098288  \n",
       "22569  35.761051 -94.267278 -621.870395 -103.571435  \n",
       "22570  47.180471 -68.278313 -612.682055  -52.329111  \n",
       "22571  51.528205 -56.476199 -609.354654    4.679249  \n",
       "22572  49.851851 -52.857786 -612.370746   35.891953  \n",
       "\n",
       "[22573 rows x 16 columns]"
      ]
     },
     "execution_count": 11,
     "metadata": {},
     "output_type": "execute_result"
    }
   ],
   "source": [
    "df.iloc[:, 6:-2]"
   ]
  },
  {
   "cell_type": "code",
   "execution_count": 12,
   "id": "1f529a12-1890-4ed8-bcdb-926420b4584e",
   "metadata": {},
   "outputs": [],
   "source": [
    "x_more = df.iloc[:, 6:-2].values"
   ]
  },
  {
   "cell_type": "code",
   "execution_count": 13,
   "id": "e274a964-70e9-4600-ba7f-c57194ae20b1",
   "metadata": {},
   "outputs": [],
   "source": [
    "x_more_F = np.append(x, x_more, axis=1)\n",
    "# x_more_F = x_talib\n",
    "# x_more_F = x"
   ]
  },
  {
   "cell_type": "code",
   "execution_count": 14,
   "id": "53228a35-83a2-4b77-84e6-4d9b604b4fe7",
   "metadata": {},
   "outputs": [
    {
     "data": {
      "text/plain": [
       "array([[ 0.00000000e+00,  0.00000000e+00,  0.00000000e+00, ...,\n",
       "         0.00000000e+00,  0.00000000e+00,  0.00000000e+00],\n",
       "       [ 5.14800100e+04,  5.15883900e+04,  5.15526900e+04, ...,\n",
       "         0.00000000e+00, -1.82055541e+01,  0.00000000e+00],\n",
       "       [ 5.14802700e+04,  5.15810400e+04,  5.14848800e+04, ...,\n",
       "         0.00000000e+00, -3.15397983e+00,  0.00000000e+00],\n",
       "       ...,\n",
       "       [ 4.83901900e+04,  4.84179800e+04,  4.83902000e+04, ...,\n",
       "        -6.82783129e+01, -6.12682055e+02, -5.23291109e+01],\n",
       "       [ 4.84061900e+04,  4.84398200e+04,  4.84179700e+04, ...,\n",
       "        -5.64761994e+01, -6.09354654e+02,  4.67924853e+00],\n",
       "       [ 4.84199500e+04,  4.84420000e+04,  4.84306100e+04, ...,\n",
       "        -5.28577858e+01, -6.12370746e+02,  3.58919532e+01]])"
      ]
     },
     "execution_count": 14,
     "metadata": {},
     "output_type": "execute_result"
    }
   ],
   "source": [
    "np.nan_to_num(x_more_F, 0)"
   ]
  },
  {
   "cell_type": "code",
   "execution_count": 15,
   "id": "fa463b0a-3aee-4436-9c42-3b2caeee0167",
   "metadata": {},
   "outputs": [
    {
     "data": {
      "text/plain": [
       "(15801, 6772)"
      ]
     },
     "execution_count": 15,
     "metadata": {},
     "output_type": "execute_result"
    }
   ],
   "source": [
    "pct = 0.7\n",
    "TrainSize = round(y.shape[0]*pct)\n",
    "TestSize = y.shape[0] - TrainSize\n",
    "\n",
    "(TrainSize, TestSize)"
   ]
  },
  {
   "cell_type": "code",
   "execution_count": 16,
   "id": "931e6d09-d9cf-4d3d-a71e-a44a02d03b50",
   "metadata": {},
   "outputs": [],
   "source": [
    "X_train, y_train = x_more_F[:TrainSize], y[:TrainSize]\n",
    "X_test, y_test = x_more_F[TrainSize:], y[TrainSize:]"
   ]
  },
  {
   "cell_type": "code",
   "execution_count": 17,
   "id": "928bb706-60d3-47a4-b677-421a1edbf5fe",
   "metadata": {},
   "outputs": [],
   "source": [
    "from sklearn.preprocessing import MinMaxScaler\n",
    "\n",
    "ms = MinMaxScaler()\n",
    "ms.fit(X_train)\n",
    "X_train_ms = ms.transform(X_train)\n",
    "X_test_ms = ms.transform(X_test)"
   ]
  },
  {
   "cell_type": "markdown",
   "id": "afaf3cb7-cb26-4b57-a557-92cb7cb44f5a",
   "metadata": {},
   "source": [
    "# **Trian**"
   ]
  },
  {
   "cell_type": "markdown",
   "id": "0ada2d66-370c-4bc3-b634-048e26ec8c12",
   "metadata": {},
   "source": [
    "## **RandomForest**"
   ]
  },
  {
   "cell_type": "code",
   "execution_count": 18,
   "id": "9becc9bc-ba29-41ff-8f37-24de768ec5e5",
   "metadata": {},
   "outputs": [
    {
     "data": {
      "text/plain": [
       "RandomForestClassifier(random_state=0)"
      ]
     },
     "execution_count": 18,
     "metadata": {},
     "output_type": "execute_result"
    }
   ],
   "source": [
    "from sklearn.ensemble import RandomForestClassifier\n",
    "\n",
    "CF = RandomForestClassifier(n_estimators=100, \n",
    "                            criterion='gini',\n",
    "                            max_depth=None,\n",
    "                            min_samples_split=2,\n",
    "                            min_samples_leaf=1,\n",
    "                            min_weight_fraction_leaf=0.0,\n",
    "                            max_features='auto',\n",
    "                            max_leaf_nodes=None,\n",
    "                            min_impurity_decrease=0.0,\n",
    "                            bootstrap=True,\n",
    "                            oob_score=False,\n",
    "                            n_jobs=None,\n",
    "                            random_state=0,\n",
    "                            verbose=0,\n",
    "                            warm_start=False,\n",
    "                            class_weight=None,\n",
    "                            ccp_alpha=0.0,\n",
    "                            max_samples=None,)\n",
    "CF.fit(X_train_ms, y_train)"
   ]
  },
  {
   "cell_type": "code",
   "execution_count": 21,
   "id": "e49af790-74a9-4980-a204-63d22810be27",
   "metadata": {},
   "outputs": [
    {
     "name": "stdout",
     "output_type": "stream",
     "text": [
      "Accuracy: 0.5119610159480212\n",
      "F1 Score: 0.4988627748294162\n"
     ]
    }
   ],
   "source": [
    "CF_pred = CF.predict(X_test_ms)\n",
    "CF_Accuracy = accuracy_score(y_test, CF_pred)\n",
    "CF_F1 = f1_score(y_test, CF_pred)\n",
    "CF_matrix = confusion_matrix(y_test, CF_pred)\n",
    "print(f'Accuracy: {CF_Accuracy}\\nF1 Score: {CF_F1}')"
   ]
  },
  {
   "cell_type": "code",
   "execution_count": 114,
   "id": "c2dc7935-f9e4-485e-b873-f04201a38145",
   "metadata": {},
   "outputs": [
    {
     "data": {
      "image/png": "[encoded data removed]",
      "text/plain": [
       "<Figure size 720x720 with 1 Axes>"
      ]
     },
     "metadata": {},
     "output_type": "display_data"
    }
   ],
   "source": [
    "plotter(matrix=CF_matrix, fname='RandomForestClassifier', acc=CF_Accuracy, f1=CF_F1)"
   ]
  },
  {
   "cell_type": "code",
   "execution_count": 42,
   "id": "1ec39df3-d43e-4a3b-9f78-4140104f4385",
   "metadata": {},
   "outputs": [
    {
     "data": {
      "image/png": "[encoded data removed]",
      "text/plain": [
       "<Figure size 720x720 with 1 Axes>"
      ]
     },
     "metadata": {},
     "output_type": "display_data"
    }
   ],
   "source": [
    "plotter(matrix=CF_matrix, fname='RandomForestClassifier', acc=CF_Accuracy, f1=CF_F1)"
   ]
  },
  {
   "cell_type": "markdown",
   "id": "09024da3-12f8-442f-85d2-cc61c44b10a4",
   "metadata": {},
   "source": [
    "## **tree**"
   ]
  },
  {
   "cell_type": "code",
   "execution_count": 22,
   "id": "67c30623-dc4d-4c76-b8ca-ce8517ec7d0d",
   "metadata": {},
   "outputs": [],
   "source": [
    "from sklearn.tree import DecisionTreeClassifier"
   ]
  },
  {
   "cell_type": "code",
   "execution_count": 23,
   "id": "2c653a4d-e94e-40c8-8a73-d4e238f9d49d",
   "metadata": {},
   "outputs": [
    {
     "data": {
      "text/plain": [
       "DecisionTreeClassifier()"
      ]
     },
     "execution_count": 23,
     "metadata": {},
     "output_type": "execute_result"
    }
   ],
   "source": [
    "DTC = DecisionTreeClassifier()\n",
    "DTC.fit(X_train_ms, y_train)"
   ]
  },
  {
   "cell_type": "code",
   "execution_count": 24,
   "id": "92b0f993-2438-4d73-8d22-4b4479a76bae",
   "metadata": {},
   "outputs": [
    {
     "name": "stdout",
     "output_type": "stream",
     "text": [
      "Accuracy: 0.5069403425871235\n",
      "F1 Score: 0.4915486523526725\n"
     ]
    }
   ],
   "source": [
    "DTC_pred = DTC.predict(X_test_ms)\n",
    "DTC_Accuracy = accuracy_score(y_test, DTC_pred)\n",
    "DTC_F1 = f1_score(y_test, DTC_pred)\n",
    "DTC_matrix = confusion_matrix(y_test, DTC_pred)\n",
    "print(f'Accuracy: {DTC_Accuracy}\\nF1 Score: {DTC_F1}')"
   ]
  },
  {
   "cell_type": "code",
   "execution_count": 25,
   "id": "141f3c29-cb8d-48eb-85e6-dfc8e142a422",
   "metadata": {},
   "outputs": [
    {
     "data": {
      "image/png": "[encoded data removed]",
      "text/plain": [
       "<Figure size 720x720 with 1 Axes>"
      ]
     },
     "metadata": {},
     "output_type": "display_data"
    }
   ],
   "source": [
    "plotter(matrix=DTC_matrix, fname='DecisionTreeClassifier', acc=DTC_Accuracy, f1=DTC_F1)"
   ]
  },
  {
   "cell_type": "markdown",
   "id": "ab8a4f3f-578d-44cf-80d3-ff3cf7335a3d",
   "metadata": {},
   "source": [
    "## **XGboost**"
   ]
  },
  {
   "cell_type": "code",
   "execution_count": 26,
   "id": "5d0645eb-8035-42ae-85a4-420c3f65bc6e",
   "metadata": {},
   "outputs": [
    {
     "name": "stderr",
     "output_type": "stream",
     "text": [
      "C:\\Anaconda3\\envs\\torchvenv\\lib\\site-packages\\xgboost\\sklearn.py:1224: UserWarning: The use of label encoder in XGBClassifier is deprecated and will be removed in a future release. To remove this warning, do the following: 1) Pass option use_label_encoder=False when constructing XGBClassifier object; and 2) Encode your labels (y) as integers starting with 0, i.e. 0, 1, 2, ..., [num_class - 1].\n",
      "  warnings.warn(label_encoder_deprecation_msg, UserWarning)\n"
     ]
    },
    {
     "name": "stdout",
     "output_type": "stream",
     "text": [
      "[04:01:02] WARNING: D:\\bld\\xgboost-split_1637426510059\\work\\src\\learner.cc:1115: Starting in XGBoost 1.3.0, the default evaluation metric used with the objective 'binary:logistic' was changed from 'error' to 'logloss'. Explicitly set eval_metric if you'd like to restore the old behavior.\n"
     ]
    },
    {
     "data": {
      "text/plain": [
       "XGBClassifier(base_score=0.5, booster='gbtree', colsample_bylevel=1,\n",
       "              colsample_bynode=1, colsample_bytree=1, enable_categorical=False,\n",
       "              gamma=0, gpu_id=-1, importance_type=None,\n",
       "              interaction_constraints='', learning_rate=0.01, max_delta_step=0,\n",
       "              max_depth=6, min_child_weight=1, missing=nan,\n",
       "              monotone_constraints='()', n_estimators=100, n_jobs=8,\n",
       "              num_parallel_tree=1, predictor='auto', random_state=0,\n",
       "              reg_alpha=0, reg_lambda=1, scale_pos_weight=1, subsample=1,\n",
       "              tree_method='exact', validate_parameters=1, verbosity=None)"
      ]
     },
     "execution_count": 26,
     "metadata": {},
     "output_type": "execute_result"
    }
   ],
   "source": [
    "from xgboost import XGBClassifier\n",
    "\n",
    "XGBC = XGBClassifier(n_estimators=100, learning_rate= 0.01)\n",
    "XGBC.fit(X_train_ms, y_train)"
   ]
  },
  {
   "cell_type": "code",
   "execution_count": 27,
   "id": "9888f360-aab4-47c6-ab65-f731fbc0a6d3",
   "metadata": {},
   "outputs": [
    {
     "name": "stdout",
     "output_type": "stream",
     "text": [
      "Accuracy: 0.5082693443591259\n",
      "F1 Score: 0.5211389128559103\n"
     ]
    }
   ],
   "source": [
    "XGBC_pred = XGBC.predict(X_test_ms)\n",
    "XGBC_Accuracy = accuracy_score(y_test, XGBC_pred)\n",
    "XGBC_F1 = f1_score(y_test, XGBC_pred)\n",
    "XGBC_matrix = confusion_matrix(y_test, XGBC_pred)\n",
    "print(f'Accuracy: {XGBC_Accuracy}\\nF1 Score: {XGBC_F1}')"
   ]
  },
  {
   "cell_type": "code",
   "execution_count": 28,
   "id": "2bae5b2a-5391-447e-a805-bb2dd90184ea",
   "metadata": {},
   "outputs": [
    {
     "data": {
      "image/png": "[encoded data removed]",
      "text/plain": [
       "<Figure size 720x720 with 1 Axes>"
      ]
     },
     "metadata": {},
     "output_type": "display_data"
    }
   ],
   "source": [
    "plotter(matrix=XGBC_matrix, fname='XGBClassifier', acc=XGBC_Accuracy, f1=XGBC_F1)"
   ]
  },
  {
   "cell_type": "markdown",
   "id": "a157a329-1eca-4d82-84dc-25a3054e118c",
   "metadata": {},
   "source": [
    "## **LightGBM**"
   ]
  },
  {
   "cell_type": "code",
   "execution_count": 29,
   "id": "d540bd66-a547-470d-8ffc-eab5dfabb001",
   "metadata": {
    "tags": []
   },
   "outputs": [],
   "source": [
    "# !pip install lightgbm"
   ]
  },
  {
   "cell_type": "code",
   "execution_count": 30,
   "id": "fdb99c9a-1ed4-45a8-b1dd-3ce7381e7cb7",
   "metadata": {},
   "outputs": [
    {
     "data": {
      "text/plain": [
       "LGBMClassifier()"
      ]
     },
     "execution_count": 30,
     "metadata": {},
     "output_type": "execute_result"
    }
   ],
   "source": [
    "from lightgbm import LGBMClassifier\n",
    "\n",
    "LGBM = LGBMClassifier()\n",
    "LGBM.fit(X_train_ms, y_train)"
   ]
  },
  {
   "cell_type": "code",
   "execution_count": 31,
   "id": "ff72fa09-7b07-4a5d-948a-f8e9f1c1cc84",
   "metadata": {},
   "outputs": [
    {
     "name": "stdout",
     "output_type": "stream",
     "text": [
      "Accuracy: 0.4909923213230951\n",
      "F1 Score: 0.44874460259075644\n"
     ]
    }
   ],
   "source": [
    "LGBM_pred = LGBM.predict(X_test)\n",
    "LGBM_Accuracy = accuracy_score(y_test, LGBM_pred)\n",
    "LGBM_F1 = f1_score(y_test, LGBM_pred)\n",
    "LGBM_matrix = confusion_matrix(y_test, LGBM_pred)\n",
    "print(f'Accuracy: {LGBM_Accuracy}\\nF1 Score: {LGBM_F1}')"
   ]
  },
  {
   "cell_type": "code",
   "execution_count": 32,
   "id": "5499d347-7b64-488e-ac53-509fb767a2cd",
   "metadata": {},
   "outputs": [
    {
     "data": {
      "text/plain": [
       "array([[1922, 1412],\n",
       "       [2035, 1403]], dtype=int64)"
      ]
     },
     "execution_count": 32,
     "metadata": {},
     "output_type": "execute_result"
    }
   ],
   "source": [
    "LGBM_matrix"
   ]
  },
  {
   "cell_type": "code",
   "execution_count": 33,
   "id": "b7f178c8-26da-484b-9a72-8fba11e03ae5",
   "metadata": {},
   "outputs": [
    {
     "data": {
      "image/png": "[encoded data removed]",
      "text/plain": [
       "<Figure size 720x720 with 1 Axes>"
      ]
     },
     "metadata": {},
     "output_type": "display_data"
    }
   ],
   "source": [
    "plotter(matrix=LGBM_matrix, fname='LGBMClassifier', acc=LGBM_Accuracy, f1=LGBM_F1)"
   ]
  },
  {
   "cell_type": "code",
   "execution_count": null,
   "id": "3e994023-0ff9-4dbe-8b89-ee3524138991",
   "metadata": {},
   "outputs": [],
   "source": []
  }
 ],
 "metadata": {
  "kernelspec": {
   "display_name": "Python 3 (ipykernel)",
   "language": "python",
   "name": "python3"
  },
  "language_info": {
   "codemirror_mode": {
    "name": "ipython",
    "version": 3
   },
   "file_extension": ".py",
   "mimetype": "text/x-python",
   "name": "python",
   "nbconvert_exporter": "python",
   "pygments_lexer": "ipython3",
   "version": "3.9.7"
  }
 },
 "nbformat": 4,
 "nbformat_minor": 5
}
