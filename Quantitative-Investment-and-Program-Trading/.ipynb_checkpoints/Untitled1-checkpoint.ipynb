{
 "cells": [
  {
   "cell_type": "code",
   "execution_count": null,
   "id": "a2e6f514-aae5-410a-95ce-15da489c1703",
   "metadata": {},
   "outputs": [],
   "source": [
    "class RollingWindow:\n",
    "    def __init__(self, df, w):\n",
    "        self.df = df\n",
    "        self.w = w\n",
    "    def returns(self):\n",
    "        np.log(df/df.shift(1))\n",
    "        \n",
    "    def backward(self):\n",
    "        np.exp(breturn) * self.df.shift(1)\n",
    "        "
   ]
  }
 ],
 "metadata": {
  "kernelspec": {
   "display_name": "Python 3 (ipykernel)",
   "language": "python",
   "name": "python3"
  },
  "language_info": {
   "codemirror_mode": {
    "name": "ipython",
    "version": 3
   },
   "file_extension": ".py",
   "mimetype": "text/x-python",
   "name": "python",
   "nbconvert_exporter": "python",
   "pygments_lexer": "ipython3",
   "version": "3.9.7"
  }
 },
 "nbformat": 4,
 "nbformat_minor": 5
}
