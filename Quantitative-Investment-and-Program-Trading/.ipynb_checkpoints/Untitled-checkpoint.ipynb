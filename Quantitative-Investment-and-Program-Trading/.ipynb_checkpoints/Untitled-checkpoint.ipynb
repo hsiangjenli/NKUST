{
 "cells": [
  {
   "cell_type": "code",
   "execution_count": 1,
   "id": "ae399ac9-bb42-4333-a252-c0f6bc99ad22",
   "metadata": {},
   "outputs": [
    {
     "data": {
      "text/plain": [
       "'D:\\\\Python\\\\NKUST\\\\Quantitative-Investment-and-Program-Trading\\\\Data'"
      ]
     },
     "execution_count": 1,
     "metadata": {},
     "output_type": "execute_result"
    }
   ],
   "source": [
    "import os\n",
    "os.path.abspath('.')"
   ]
  },
  {
   "cell_type": "code",
   "execution_count": 2,
   "id": "4b5ebf3b-658e-4407-a200-14c4c48b0f56",
   "metadata": {},
   "outputs": [],
   "source": [
    "import pandas as pd\n",
    "import numpy as np\n",
    "\n",
    "x = np.load('BTC-W10.npy')\n",
    "y = np.load('BTC-W10-Y.npy')"
   ]
  },
  {
   "cell_type": "code",
   "execution_count": 6,
   "id": "f80ae0b1-bf6e-4fee-a706-23c980923fe2",
   "metadata": {},
   "outputs": [],
   "source": [
    "def transformR(array):\n",
    "    return np.log(array/array.shift(1))\n",
    "def backwardR(arrayReturn, arrayPrice):\n",
    "    return np.exp(arrayReturn) * arrayPrice.shift(1) "
   ]
  },
  {
   "cell_type": "code",
   "execution_count": 64,
   "id": "ee2c5253-9be4-40be-b3f9-b1c88b846147",
   "metadata": {},
   "outputs": [],
   "source": [
    "df = pd.read_csv('CleanBTCUSDT_1M.csv')"
   ]
  },
  {
   "cell_type": "code",
   "execution_count": 19,
   "id": "9a454047-c132-464e-bdf3-099a61308216",
   "metadata": {},
   "outputs": [],
   "source": [
    "# df.Close.to_csv('rawClose.csv', index=False)"
   ]
  },
  {
   "cell_type": "code",
   "execution_count": 65,
   "id": "793cde97-ccc8-4870-94d1-731cc3178106",
   "metadata": {},
   "outputs": [],
   "source": [
    "# df = pd.read_csv('rawClose.csv')"
   ]
  },
  {
   "cell_type": "code",
   "execution_count": 66,
   "id": "da1912c2-1d81-44ab-957b-7d3450d0a9dc",
   "metadata": {},
   "outputs": [],
   "source": [
    "windows = 10"
   ]
  },
  {
   "cell_type": "code",
   "execution_count": 75,
   "id": "5699c5a5-c8f4-4bbc-a20b-cdc0a030d55e",
   "metadata": {
    "tags": []
   },
   "outputs": [
    {
     "data": {
      "text/plain": [
       "0     4261.48\n",
       "1     4261.48\n",
       "2     4280.56\n",
       "3     4261.48\n",
       "4     4261.48\n",
       "5     4261.48\n",
       "6     4261.48\n",
       "7     4261.48\n",
       "8     4261.48\n",
       "9     4261.48\n",
       "10    4261.48\n",
       "11    4261.48\n",
       "12    4261.48\n",
       "13    4261.48\n",
       "14    4261.48\n",
       "15    4261.48\n",
       "16    4261.48\n",
       "17    4264.88\n",
       "18    4264.88\n",
       "19    4261.48\n",
       "20    4264.88\n",
       "21    4266.29\n",
       "22    4266.29\n",
       "23    4266.29\n",
       "24    4266.29\n",
       "25    4266.29\n",
       "26    4266.29\n",
       "27    4266.29\n",
       "28    4266.29\n",
       "29    4261.45\n",
       "Name: Close, dtype: float64"
      ]
     },
     "execution_count": 75,
     "metadata": {},
     "output_type": "execute_result"
    }
   ],
   "source": [
    "df.Close[:30]"
   ]
  },
  {
   "cell_type": "code",
   "execution_count": 111,
   "id": "e5644589-c8f6-4b0c-903a-4f3014919f71",
   "metadata": {
    "tags": []
   },
   "outputs": [
    {
     "data": {
      "text/plain": [
       "11                  NaN\n",
       "12          4261.480000\n",
       "13          4261.480000\n",
       "14          4261.480000\n",
       "15          4261.480000\n",
       "               ...     \n",
       "2279876    48396.770620\n",
       "2279877    48396.210188\n",
       "2279878    48381.151688\n",
       "2279879    48445.785960\n",
       "2279880    48443.223289\n",
       "Name: Close, Length: 2279870, dtype: float64"
      ]
     },
     "execution_count": 111,
     "metadata": {},
     "output_type": "execute_result"
    }
   ],
   "source": [
    "# backwardR(transformR(df.Close)[1:], df.Close[1:])\n",
    "backwardR(y, df.Close[11:-1])"
   ]
  },
  {
   "cell_type": "code",
   "execution_count": 101,
   "id": "49dff1a0-e3fe-41a7-953e-376187bac86d",
   "metadata": {},
   "outputs": [
    {
     "data": {
      "text/plain": [
       "0           4261.48\n",
       "1           4261.48\n",
       "2           4280.56\n",
       "3           4261.48\n",
       "4           4261.48\n",
       "             ...   \n",
       "2279877    48390.19\n",
       "2279878    48417.98\n",
       "2279879    48430.60\n",
       "2279880    48425.96\n",
       "2279881    48437.57\n",
       "Name: Close, Length: 2279882, dtype: float64"
      ]
     },
     "execution_count": 101,
     "metadata": {},
     "output_type": "execute_result"
    }
   ],
   "source": [
    "df.Close"
   ]
  },
  {
   "cell_type": "code",
   "execution_count": 90,
   "id": "5722dedd-26b9-4518-9027-3d7ab29a699f",
   "metadata": {
    "tags": []
   },
   "outputs": [
    {
     "data": {
      "text/plain": [
       "1             NaN\n",
       "2     4261.480000\n",
       "3     4280.560000\n",
       "4     4261.480000\n",
       "5     4261.480000\n",
       "6     4261.480000\n",
       "7     4261.480000\n",
       "8     4264.880000\n",
       "9     4261.480000\n",
       "10    4258.082711\n",
       "11    4264.880000\n",
       "12    4262.888876\n",
       "13    4261.480000\n",
       "14    4261.480000\n",
       "15    4261.480000\n",
       "16    4261.480000\n",
       "17    4261.480000\n",
       "18    4264.880000\n",
       "19    4264.880000\n",
       "20    4256.645457\n",
       "21    4283.444931\n",
       "22    4260.977073\n",
       "23    4266.290000\n",
       "24    4259.623095\n",
       "25    4294.918592\n",
       "26    4270.013520\n",
       "27    4266.290000\n",
       "28    4266.290000\n",
       "29    4266.290000\n",
       "30    4261.450000\n",
       "Name: Close, dtype: float64"
      ]
     },
     "execution_count": 90,
     "metadata": {},
     "output_type": "execute_result"
    }
   ],
   "source": [
    "backwardR(y[:30], df.Close[1:31])"
   ]
  },
  {
   "cell_type": "code",
   "execution_count": 94,
   "id": "aa99da34-c363-483e-a78a-204e8a62cad1",
   "metadata": {},
   "outputs": [],
   "source": [
    "pct = 0.7\n",
    "TrainSize = round(y.shape[0]*pct)\n",
    "TestSize = y.shape[0] - TrainSize"
   ]
  },
  {
   "cell_type": "code",
   "execution_count": 96,
   "id": "e72e85bf-1c31-4a93-863b-de4ba2887f3d",
   "metadata": {},
   "outputs": [
    {
     "data": {
      "text/plain": [
       "1595910             NaN\n",
       "1595911    11362.187408\n",
       "1595912    11364.895662\n",
       "1595913    11377.070046\n",
       "1595914    11376.649716\n",
       "1595915    11366.247593\n",
       "1595916    11371.057576\n",
       "1595917    11376.033210\n",
       "1595918    11371.434680\n",
       "1595919    11382.200084\n",
       "1595920    11372.849678\n",
       "1595921    11375.059577\n",
       "1595922    11386.112948\n",
       "1595923    11367.099376\n",
       "1595924    11377.313677\n",
       "1595925    11366.311374\n",
       "1595926    11368.890749\n",
       "1595927    11356.342508\n",
       "1595928    11352.730714\n",
       "1595929    11354.469818\n",
       "1595930    11354.428160\n",
       "1595931    11355.077322\n",
       "1595932    11361.983569\n",
       "1595933    11357.392257\n",
       "1595934    11348.299397\n",
       "1595935    11358.075831\n",
       "1595936    11356.726432\n",
       "1595937    11348.100553\n",
       "1595938    11367.065852\n",
       "1595939    11360.479999\n",
       "Name: Close, dtype: float64"
      ]
     },
     "execution_count": 96,
     "metadata": {},
     "output_type": "execute_result"
    }
   ],
   "source": [
    "backwardR(y[TrainSize:TrainSize+30], df.Close[TrainSize+1:TrainSize+31])"
   ]
  },
  {
   "cell_type": "code",
   "execution_count": 99,
   "id": "6a17eb73-66fc-40c8-bb93-7d8b90771e76",
   "metadata": {},
   "outputs": [
    {
     "data": {
      "text/plain": [
       "1595911    11361.37\n",
       "1595912    11378.52\n",
       "1595913    11378.88\n",
       "1595914    11377.61\n",
       "1595915    11373.82\n",
       "             ...   \n",
       "2279877    48390.19\n",
       "2279878    48417.98\n",
       "2279879    48430.60\n",
       "2279880    48425.96\n",
       "2279881    48437.57\n",
       "Name: Close, Length: 683971, dtype: float64"
      ]
     },
     "execution_count": 99,
     "metadata": {},
     "output_type": "execute_result"
    }
   ],
   "source": [
    "df.Close[TrainSize+2:]"
   ]
  },
  {
   "cell_type": "code",
   "execution_count": null,
   "id": "fdc1b183-3034-44df-bfc2-0404cb005beb",
   "metadata": {},
   "outputs": [],
   "source": []
  }
 ],
 "metadata": {
  "kernelspec": {
   "display_name": "Python 3 (ipykernel)",
   "language": "python",
   "name": "python3"
  },
  "language_info": {
   "codemirror_mode": {
    "name": "ipython",
    "version": 3
   },
   "file_extension": ".py",
   "mimetype": "text/x-python",
   "name": "python",
   "nbconvert_exporter": "python",
   "pygments_lexer": "ipython3",
   "version": "3.9.7"
  }
 },
 "nbformat": 4,
 "nbformat_minor": 5
}
