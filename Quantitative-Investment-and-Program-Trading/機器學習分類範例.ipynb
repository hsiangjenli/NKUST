{
 "cells": [
  {
   "cell_type": "code",
   "execution_count": null,
   "metadata": {
    "id": "NTnAfDYmN8cs"
   },
   "outputs": [],
   "source": [
    "import pandas as pd  # 引用套件並縮寫為 pd\n",
    "\n",
    "df = pd.read_csv('BTCUSDT_1M.csv', encoding='utf8') "
   ]
  },
  {
   "cell_type": "code",
   "execution_count": null,
   "metadata": {
    "id": "8bP6MRD3N8cx"
   },
   "outputs": [],
   "source": [
    "df"
   ]
  },
  {
   "cell_type": "code",
   "execution_count": null,
   "metadata": {
    "id": "WQ7NEdZzN8cz"
   },
   "outputs": [],
   "source": [
    "df = df.dropna()\n",
    "df"
   ]
  },
  {
   "cell_type": "markdown",
   "metadata": {
    "id": "8NGfX6LcN8cz"
   },
   "source": [
    "## 將資料欄位重新命名"
   ]
  },
  {
   "cell_type": "code",
   "execution_count": null,
   "metadata": {
    "id": "_2vtbm4dN8c1"
   },
   "outputs": [],
   "source": [
    "df = df.rename(columns={ 'open':'Open', 'high':'High', 'low':'Low',\n",
    "                        'close':'Close', 'volume':'Volume','timestamp':'Date'})  \n",
    "df['Date'].unique()"
   ]
  },
  {
   "cell_type": "code",
   "execution_count": null,
   "metadata": {
    "id": "1qDp2PVXN8c2"
   },
   "outputs": [],
   "source": [
    "df = df.drop([\"close_time\", \"quote_av\",\"trades\",\"tb_base_av\",\"tb_quote_av\",\"ignore\",\"Date\"], axis=1)\n",
    "df "
   ]
  },
  {
   "cell_type": "code",
   "execution_count": null,
   "metadata": {
    "id": "3RL0ejGWV5P0"
   },
   "outputs": [],
   "source": [
    "# TaLib的安裝方式\n",
    "\n",
    "!wget http://prdownloads.sourceforge.net/ta-lib/ta-lib-0.4.0-src.tar.gz\n",
    "!tar -xzvf ta-lib-0.4.0-src.tar.gz\n",
    "%cd ta-lib\n",
    "!./configure --prefix=/usr\n",
    "!make\n",
    "!make install\n",
    "!pip install Ta-Lib\n",
    "!pip install mpl_finance\n",
    "!pip install matplotlib"
   ]
  },
  {
   "cell_type": "code",
   "execution_count": null,
   "metadata": {
    "id": "48rSja0kIsiW"
   },
   "outputs": [],
   "source": [
    "import os\n",
    "import talib # 技術指標產生器\n",
    "import sklearn.preprocessing as preprocessing  # 資料前處理 Scikit-learn\n",
    "from sklearn.model_selection import train_test_split # 資料分割\n",
    "from sklearn.svm import SVC # 機器學習SVM的SVC\n",
    "\n",
    "# # 更改讀檔路徑\n",
    "# path = '/content'\n",
    "# os.getcwd() # 抓取目前的工作目錄\n",
    "# os.chdir(path) # 更改工作目錄"
   ]
  },
  {
   "cell_type": "code",
   "execution_count": null,
   "metadata": {
    "id": "X3iuUoTyIsiX"
   },
   "outputs": [],
   "source": [
    "df.tail() # 檢查"
   ]
  },
  {
   "cell_type": "markdown",
   "metadata": {
    "id": "nvXm8oPRIsiY"
   },
   "source": [
    "# 以下處理技術指標\n",
    "\n",
    "需要10個特徵 ('MA10' , 'WMA10', 'MOM' , 'K' , 'D', 'RSI-10' , 'dea值' , '威廉指標R' , 'AD線' , 'CCI指標' )"
   ]
  },
  {
   "cell_type": "code",
   "execution_count": null,
   "metadata": {
    "id": "6nUV4H1pIsiY"
   },
   "outputs": [],
   "source": [
    "# 開高低收量\n",
    "# 各用一個變數儲存\n",
    "High  = df[\"High\"]   # 最高價\n",
    "Low   = df[\"Low\"]   # 最低價\n",
    "Open  = df[\"Open\"]   # 開盤價\n",
    "Close = df[\"Close\"]   # 收盤價\n",
    "Volume= df[\"Volume\"] # 成交量"
   ]
  },
  {
   "cell_type": "markdown",
   "metadata": {
    "id": "v5hxQxyHIsiY"
   },
   "source": [
    "##### 技術指標--均線"
   ]
  },
  {
   "cell_type": "code",
   "execution_count": null,
   "metadata": {
    "id": "sk7Ev9fkIsiZ"
   },
   "outputs": [],
   "source": [
    "df['MA10']  = talib.MA(Close, timeperiod=10)\n",
    "df['WMA10'] = talib.WMA(Close, timeperiod=10)\n",
    "df['EMA10'] = talib.EMA(Close, timeperiod=10)"
   ]
  },
  {
   "cell_type": "markdown",
   "metadata": {
    "id": "oz3z6eWzIsiZ"
   },
   "source": [
    "##### 技術指標--動量線"
   ]
  },
  {
   "cell_type": "code",
   "execution_count": null,
   "metadata": {
    "id": "BPBDA7aYIsiZ"
   },
   "outputs": [],
   "source": [
    "df['MOM'] = talib.MOM(Close, timeperiod=10)"
   ]
  },
  {
   "cell_type": "markdown",
   "metadata": {
    "id": "1E0fgN6zIsia"
   },
   "source": [
    "##### 技術指標--KD"
   ]
  },
  {
   "cell_type": "code",
   "execution_count": null,
   "metadata": {
    "id": "uoyB2y8yIsia"
   },
   "outputs": [],
   "source": [
    "fastk, fastd = talib.STOCHF( High ,Low, Close, fastk_period=5, fastd_period=3, fastd_matype=0)\n",
    "df['K'] = fastk\n",
    "df['D'] = fastd"
   ]
  },
  {
   "cell_type": "markdown",
   "metadata": {
    "id": "eTrtZp3IIsia"
   },
   "source": [
    "##### 技術指標--RSI"
   ]
  },
  {
   "cell_type": "code",
   "execution_count": null,
   "metadata": {
    "id": "2C_KQUz7Isia"
   },
   "outputs": [],
   "source": [
    "df['RSI-5']  = talib.RSI(Close,timeperiod=5)\n",
    "df['RSI-10'] = talib.RSI(Close,timeperiod=10)"
   ]
  },
  {
   "cell_type": "markdown",
   "metadata": {
    "id": "ONflq2lGIsib"
   },
   "source": [
    "##### 技術指標--MACD"
   ]
  },
  {
   "cell_type": "code",
   "execution_count": null,
   "metadata": {
    "id": "pDZzjiLtIsib"
   },
   "outputs": [],
   "source": [
    "dif, macd, dea = talib.MACD(Close,12,26,9)\n",
    "df['dif值']= dif\n",
    "df['macd值']= macd\n",
    "df['dea值']= dea"
   ]
  },
  {
   "cell_type": "markdown",
   "metadata": {
    "id": "C-5uLU5XIsib"
   },
   "source": [
    "##### 技術指標--威廉R指標"
   ]
  },
  {
   "cell_type": "code",
   "execution_count": null,
   "metadata": {
    "id": "WASCAtPgIsib"
   },
   "outputs": [],
   "source": [
    "df['威廉指標R'] = talib.WILLR(High, Low, Close, timeperiod=14)"
   ]
  },
  {
   "cell_type": "markdown",
   "metadata": {
    "id": "zGaMAExHIsib"
   },
   "source": [
    "##### 技術指標--AD線"
   ]
  },
  {
   "cell_type": "code",
   "execution_count": null,
   "metadata": {
    "id": "QpPx4g5zIsic"
   },
   "outputs": [],
   "source": [
    "df['AD線'] = talib.AD(High, Low, Close, Volume)"
   ]
  },
  {
   "cell_type": "markdown",
   "metadata": {
    "id": "K_YKLJYyIsic"
   },
   "source": [
    "##### 技術指標--CCI線"
   ]
  },
  {
   "cell_type": "code",
   "execution_count": null,
   "metadata": {
    "id": "Pt8cewE2Isic"
   },
   "outputs": [],
   "source": [
    "df['CCI指標'] = talib.CCI(High, Low, Close, timeperiod=14)"
   ]
  },
  {
   "cell_type": "markdown",
   "metadata": {
    "id": "IST7fX6aIsic"
   },
   "source": [
    "##### 計算報酬率  (LABEL採用)"
   ]
  },
  {
   "cell_type": "code",
   "execution_count": null,
   "metadata": {
    "id": "GnfFfdh0Isic"
   },
   "outputs": [],
   "source": [
    "R = (Close - Close.shift(1))/Close.shift(1)\n",
    "# R = (Close.shift(-1)-Close)/Close # 明天-今天/今天，一樣的結果\n",
    "\n",
    "df['報酬率(Return)']= R.shift(-1) # 位移1日\n",
    "df['報酬率(Return)']"
   ]
  },
  {
   "cell_type": "code",
   "execution_count": null,
   "metadata": {
    "id": "rLYNmI0dN8c-"
   },
   "outputs": [],
   "source": [
    "df"
   ]
  },
  {
   "cell_type": "markdown",
   "metadata": {
    "id": "iZlKWCRFN8c-"
   },
   "source": [
    "## 判斷漲跌1是跌0是漲"
   ]
  },
  {
   "cell_type": "code",
   "execution_count": null,
   "metadata": {
    "id": "OfpYjiCKN8c-"
   },
   "outputs": [],
   "source": [
    "import numpy as np\n",
    "tp = np.where((df['報酬率(Return)'] >= 0) ,1, 0)\n",
    "tp"
   ]
  },
  {
   "cell_type": "code",
   "execution_count": null,
   "metadata": {
    "id": "zU03wEUfN8c_"
   },
   "outputs": [],
   "source": [
    "df[\"Trading Point\"] = tp"
   ]
  },
  {
   "cell_type": "code",
   "execution_count": null,
   "metadata": {
    "id": "5VjHIjd7N8c_"
   },
   "outputs": [],
   "source": [
    "df"
   ]
  },
  {
   "cell_type": "markdown",
   "metadata": {
    "id": "8Lcev_tnIsie"
   },
   "source": [
    "### 整理階段"
   ]
  },
  {
   "cell_type": "code",
   "execution_count": null,
   "metadata": {
    "id": "ar7vEikIIsie"
   },
   "outputs": [],
   "source": [
    "df_0 = df # 留一個原始檔案\n",
    "df_1 = df # 一份用來訓練的檔案"
   ]
  },
  {
   "cell_type": "code",
   "execution_count": null,
   "metadata": {
    "id": "Mfmas8RbIsie"
   },
   "outputs": [],
   "source": [
    "features = ['MA10','WMA10','MOM','K','D','RSI-10','dea值','威廉指標R','AD線','CCI指標']\n",
    "# 特徵選取，先用串列保存名稱 後續再讀資料\n",
    "Labels = ['Trading Point']\n",
    "# 解答選取，先用串列保存名稱 後續再讀資料"
   ]
  },
  {
   "cell_type": "code",
   "execution_count": null,
   "metadata": {
    "id": "s8e9qrDFIsie"
   },
   "outputs": [],
   "source": [
    "Col = features+Labels  # X+Y 作為一整張試卷"
   ]
  },
  {
   "cell_type": "code",
   "execution_count": null,
   "metadata": {
    "id": "uCrAFh4OIsie"
   },
   "outputs": [],
   "source": [
    "df1 = df[features].dropna(how='any') # 把NA刪除\n",
    "# 讀取資料\n",
    "df1.head() # 檢查"
   ]
  },
  {
   "cell_type": "markdown",
   "metadata": {
    "id": "YeiY9iNJIsif"
   },
   "source": [
    "### 資料前處理階段 -----  最大最小法 (+1 ~ -1)"
   ]
  },
  {
   "cell_type": "code",
   "execution_count": null,
   "metadata": {
    "id": "bHDXUEOSIsif"
   },
   "outputs": [],
   "source": [
    "minmax_scale = preprocessing.MinMaxScaler(feature_range=(-1,1)) # 前處理器"
   ]
  },
  {
   "cell_type": "code",
   "execution_count": null,
   "metadata": {
    "id": "8XmYm9ueIsif"
   },
   "outputs": [],
   "source": [
    "# data_minmax = pd.DataFrame(minmax_scale.fit_transform(df1), index=df1.index, columns=df1.columns)\n",
    "minmax_learn = minmax_scale.fit_transform(df1) \n",
    "# 導入並輸出成+1~-1\n",
    "# 處理器的格式是numpy 要再轉換成pandas"
   ]
  },
  {
   "cell_type": "code",
   "execution_count": null,
   "metadata": {
    "id": "WJvVvjt2Isif"
   },
   "outputs": [],
   "source": [
    "data_minmax = pd.DataFrame(minmax_learn,index=df1.index, columns=df1.columns)\n",
    "# 轉換回pandas格式"
   ]
  },
  {
   "cell_type": "code",
   "execution_count": null,
   "metadata": {
    "id": "_tuuHFvtIsig"
   },
   "outputs": [],
   "source": [
    "data_minmax.head()"
   ]
  },
  {
   "cell_type": "code",
   "execution_count": null,
   "metadata": {
    "id": "w9dsITjoIsig"
   },
   "outputs": [],
   "source": [
    "data_minmax[Labels] = df[Labels] # 放入Labels"
   ]
  },
  {
   "cell_type": "code",
   "execution_count": null,
   "metadata": {
    "id": "QuaOyanUIsig"
   },
   "outputs": [],
   "source": [
    "data_minmax.head()"
   ]
  },
  {
   "cell_type": "markdown",
   "metadata": {
    "id": "O6cILXm3Isig"
   },
   "source": [
    "#### 資料分割"
   ]
  },
  {
   "cell_type": "code",
   "execution_count": null,
   "metadata": {
    "id": "eJeAgi7RIsig"
   },
   "outputs": [],
   "source": [
    "from sklearn.model_selection import train_test_split # 資料分割\n",
    "# data_minmax_train , data_minmax_test = train_test_split(data_minmax, test_size=0.552, random_state=2,shuffle=False)\n",
    "data_minmax_train , data_minmax_test = train_test_split(data_minmax, test_size=0.2, random_state=2,shuffle=False)\n",
    "\n",
    "# train_size test_size 是互補 設定test即可\n",
    "# 這裡是範例 不用7:3或8:2\n",
    "# 可以用 shuffle=True 打亂資料 \n",
    "\n",
    "# 也可以人工自行切割 (例如:用pandas切開前後 或 excel檔分前後兩份)"
   ]
  },
  {
   "cell_type": "markdown",
   "metadata": {
    "id": "9dScehUcIsih"
   },
   "source": [
    "#### 機器學習建立"
   ]
  },
  {
   "cell_type": "code",
   "execution_count": null,
   "metadata": {
    "id": "To6mqz4iIsih"
   },
   "outputs": [],
   "source": [
    "data_minmax_train # 檢查"
   ]
  },
  {
   "cell_type": "code",
   "execution_count": null,
   "metadata": {
    "id": "VuaS3IerIsih"
   },
   "outputs": [],
   "source": [
    "data_minmax_test # 檢查"
   ]
  },
  {
   "cell_type": "code",
   "execution_count": null,
   "metadata": {
    "id": "3Cr9MQB7Isii"
   },
   "outputs": [],
   "source": [
    "print(data_minmax_train.shape)\n",
    "print(data_minmax_test.shape)\n",
    "# 直接看大小"
   ]
  },
  {
   "cell_type": "code",
   "execution_count": null,
   "metadata": {
    "id": "IwN3b6ZbN8dD"
   },
   "outputs": [],
   "source": [
    "y_train = data_minmax_train[Labels]\n",
    "X_train = data_minmax_train[features]\n",
    "y_test = data_minmax_test[Labels]\n",
    "X_test = data_minmax_test[features]"
   ]
  },
  {
   "cell_type": "code",
   "execution_count": null,
   "metadata": {
    "id": "ysb9sW-fN8dE"
   },
   "outputs": [],
   "source": [
    "y_train.head()\n",
    "y_train"
   ]
  },
  {
   "cell_type": "code",
   "execution_count": null,
   "metadata": {
    "id": "iHrQeHhNN8dE"
   },
   "outputs": [],
   "source": [
    "X_train.head()\n",
    "X_train"
   ]
  },
  {
   "cell_type": "code",
   "execution_count": null,
   "metadata": {
    "id": "zFPeqSSKN8dF"
   },
   "outputs": [],
   "source": [
    "y_test.head()\n",
    "y_test"
   ]
  },
  {
   "cell_type": "code",
   "execution_count": null,
   "metadata": {
    "id": "0j-LiqvcN8dF"
   },
   "outputs": [],
   "source": [
    "X_test.head()\n",
    "X_test"
   ]
  },
  {
   "cell_type": "markdown",
   "metadata": {
    "id": "_p3iERz7Isii"
   },
   "source": [
    "# 機器學習"
   ]
  },
  {
   "cell_type": "markdown",
   "metadata": {
    "id": "EGTMxkgXN8dF"
   },
   "source": [
    "## XGboost"
   ]
  },
  {
   "cell_type": "code",
   "execution_count": null,
   "metadata": {
    "id": "rC29cmMSN8dG"
   },
   "outputs": [],
   "source": [
    "from xgboost import XGBClassifier\n",
    "\n",
    "# 建立 XGBClassifier 模型\n",
    "xgboostModel = XGBClassifier(n_estimators=100, learning_rate= 0.3)\n",
    "# 使用訓練資料訓練模型\n",
    "xgboostModel.fit(X_train, y_train)\n",
    "# 使用訓練資料預測分類\n",
    "predicted = xgboostModel.predict(X_train)\n",
    "# 預測成功的比例\n",
    "print('訓練集: ',xgboostModel.score(X_train,y_train))\n",
    "print('測試集: ',xgboostModel.score(X_test,y_test))"
   ]
  },
  {
   "cell_type": "code",
   "execution_count": null,
   "metadata": {
    "id": "lctuqTssN8dG"
   },
   "outputs": [],
   "source": []
  },
  {
   "cell_type": "markdown",
   "metadata": {
    "id": "WgVTNoE0N8dG"
   },
   "source": [
    "## DecisionTree"
   ]
  },
  {
   "cell_type": "code",
   "execution_count": null,
   "metadata": {
    "id": "mD_9-4_RN8dH"
   },
   "outputs": [],
   "source": [
    "from sklearn import tree\n",
    "# from sklearn.cross_validation import train_test_split\n",
    "\n",
    "\n",
    "\n",
    "\n",
    "\n",
    "# 建立分類器\n",
    "clf = tree.DecisionTreeClassifier()\n",
    "iris_clf = clf.fit(X_train, y_train)\n",
    "\n",
    "# 預測\n",
    "test_y_predicted = iris_clf.predict(X_test)\n",
    "print(test_y_predicted)\n",
    "\n",
    "# 標準答案\n",
    "# print(y_test)\n",
    "\n",
    "from sklearn import metrics\n",
    "\n",
    "accuracy = metrics.accuracy_score(y_test, test_y_predicted)\n",
    "print(accuracy)"
   ]
  },
  {
   "cell_type": "code",
   "execution_count": null,
   "metadata": {
    "id": "dadPpuO_N8dH"
   },
   "outputs": [],
   "source": []
  },
  {
   "cell_type": "code",
   "execution_count": null,
   "metadata": {
    "id": "QEikCvVEN8dI"
   },
   "outputs": [],
   "source": []
  },
  {
   "cell_type": "markdown",
   "metadata": {
    "id": "p6EPTtNtN8dI"
   },
   "source": [
    "## RF模型"
   ]
  },
  {
   "cell_type": "code",
   "execution_count": null,
   "metadata": {
    "id": "Xxl6XfJDN8dI"
   },
   "outputs": [],
   "source": [
    "from sklearn.ensemble import RandomForestClassifier # 隨機森林分類器"
   ]
  },
  {
   "cell_type": "code",
   "execution_count": null,
   "metadata": {
    "id": "LSErBF64N8dI"
   },
   "outputs": [],
   "source": [
    "cf = RandomForestClassifier(\n",
    "    n_estimators=100, # 隨機森林的樹木數量\n",
    "    criterion='gini', # 決策樹的計算方法\n",
    "    max_depth=None, # 樹林成長的範圍\n",
    "    min_samples_split=2,\n",
    "    min_samples_leaf=1,\n",
    "    min_weight_fraction_leaf=0.0,\n",
    "    max_features='auto',\n",
    "    max_leaf_nodes=None,\n",
    "    min_impurity_decrease=0.0,\n",
    "    min_impurity_split=None,\n",
    "    bootstrap=True,\n",
    "    oob_score=False,\n",
    "    n_jobs=None,\n",
    "    random_state=0,\n",
    "    verbose=0,\n",
    "    warm_start=False,\n",
    "    class_weight=None,\n",
    "    ccp_alpha=0.0,\n",
    "    max_samples=None,)\n",
    "\n",
    "# 這邊RF的定義，第一個參數是代表著決策樹的數量\n",
    "# RF是隨機森林，第一個參數要設定該森林的大小\n",
    "\n",
    "cf.fit(X_train, y_train)"
   ]
  },
  {
   "cell_type": "code",
   "execution_count": null,
   "metadata": {
    "id": "JqO6ROouN8dJ"
   },
   "outputs": [],
   "source": [
    "test_y_predicted = cf.predict(X_test)"
   ]
  },
  {
   "cell_type": "code",
   "execution_count": null,
   "metadata": {
    "id": "ZDZewBwkN8dJ"
   },
   "outputs": [],
   "source": [
    "from sklearn import metrics\n",
    "\n",
    "accuracy = metrics.accuracy_score(y_test, test_y_predicted)\n",
    "print(accuracy)"
   ]
  },
  {
   "cell_type": "markdown",
   "metadata": {
    "id": "W9-MpIP5N8dJ"
   },
   "source": [
    "## LightGBM Classifier"
   ]
  },
  {
   "cell_type": "code",
   "execution_count": null,
   "metadata": {
    "id": "e1eNHTaoN8dK"
   },
   "outputs": [],
   "source": [
    "# build the lightgbm model\n",
    "import lightgbm as lgb\n",
    "clf = lgb.LGBMClassifier()\n",
    "clf.fit(X_train, y_train)"
   ]
  },
  {
   "cell_type": "code",
   "execution_count": null,
   "metadata": {
    "id": "zsv3KOLpN8dK"
   },
   "outputs": [],
   "source": [
    "# predict the results\n",
    "y_pred=clf.predict(X_test)"
   ]
  },
  {
   "cell_type": "code",
   "execution_count": null,
   "metadata": {
    "id": "RP3nVY9eN8dK"
   },
   "outputs": [],
   "source": [
    "accuracy = metrics.accuracy_score(y_test, y_pred)\n",
    "print(accuracy)"
   ]
  },
  {
   "cell_type": "code",
   "execution_count": null,
   "metadata": {
    "id": "Pka5rgISN8dL"
   },
   "outputs": [],
   "source": []
  },
  {
   "cell_type": "code",
   "execution_count": null,
   "metadata": {
    "id": "3uldm1vFN8dL"
   },
   "outputs": [],
   "source": []
  },
  {
   "cell_type": "code",
   "execution_count": null,
   "metadata": {
    "id": "QRKQ-zSEN8dL"
   },
   "outputs": [],
   "source": []
  },
  {
   "cell_type": "code",
   "execution_count": null,
   "metadata": {
    "id": "62tBSJqXN8dL"
   },
   "outputs": [],
   "source": []
  },
  {
   "cell_type": "code",
   "execution_count": null,
   "metadata": {
    "id": "AuR2hBxEN8dM"
   },
   "outputs": [],
   "source": []
  }
 ],
 "metadata": {
  "colab": {
   "collapsed_sections": [],
   "name": "機器學習分類範例.ipynb",
   "provenance": []
  },
  "kernelspec": {
   "display_name": "Python 3 (ipykernel)",
   "language": "python",
   "name": "python3"
  },
  "language_info": {
   "codemirror_mode": {
    "name": "ipython",
    "version": 3
   },
   "file_extension": ".py",
   "mimetype": "text/x-python",
   "name": "python",
   "nbconvert_exporter": "python",
   "pygments_lexer": "ipython3",
   "version": "3.9.7"
  }
 },
 "nbformat": 4,
 "nbformat_minor": 4
}
